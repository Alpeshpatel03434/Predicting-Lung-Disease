{
 "cells": [
  {
   "cell_type": "markdown",
   "id": "7e08bf88",
   "metadata": {},
   "source": [
    "# Dataset Found\n",
    "\n",
    "**Link :** https://www.kaggle.com/paultimothymooney/chest-xray-pneumonia"
   ]
  },
  {
   "cell_type": "code",
   "execution_count": null,
   "id": "ca3580df",
   "metadata": {},
   "outputs": [],
   "source": []
  },
  {
   "cell_type": "markdown",
   "id": "0c3ab8f9",
   "metadata": {},
   "source": [
    "## Importing the libraries"
   ]
  },
  {
   "cell_type": "code",
   "execution_count": 1,
   "id": "ad5bfac1",
   "metadata": {},
   "outputs": [],
   "source": [
    "import tensorflow as tf\n",
    "from keras.preprocessing.image import ImageDataGenerator\n",
    "from keras.preprocessing import image\n",
    "import numpy as np\n",
    "import matplotlib.pyplot as plt  \n",
    "%matplotlib inline\n",
    "from keras.models import model_from_json"
   ]
  },
  {
   "cell_type": "markdown",
   "id": "119f7da2",
   "metadata": {},
   "source": [
    "# Data Preprocessing"
   ]
  },
  {
   "cell_type": "markdown",
   "id": "73e13f5f",
   "metadata": {},
   "source": [
    "## Preprocessing the Training set"
   ]
  },
  {
   "cell_type": "code",
   "execution_count": 2,
   "id": "e21783ae",
   "metadata": {},
   "outputs": [
    {
     "name": "stdout",
     "output_type": "stream",
     "text": [
      "Found 5216 images belonging to 2 classes.\n"
     ]
    }
   ],
   "source": [
    "train_datagen = ImageDataGenerator(rescale = 1./255,\n",
    "                                   shear_range = 0.2,\n",
    "                                   zoom_range = 0.2,\n",
    "                                   horizontal_flip = True)\n",
    "train_inputs = train_datagen.flow_from_directory('Dataset/train',\n",
    "                                                 target_size = (64, 64),\n",
    "                                                 batch_size = 32,\n",
    "                                                 class_mode = 'binary')"
   ]
  },
  {
   "cell_type": "code",
   "execution_count": 3,
   "id": "695de9e1",
   "metadata": {},
   "outputs": [
    {
     "data": {
      "text/plain": [
       "{'NORMAL': 0, 'PNEUMONIA': 1}"
      ]
     },
     "execution_count": 3,
     "metadata": {},
     "output_type": "execute_result"
    }
   ],
   "source": [
    "train_inputs.class_indices"
   ]
  },
  {
   "cell_type": "markdown",
   "id": "2d60ce7a",
   "metadata": {},
   "source": [
    "## Preprocessing the Test set"
   ]
  },
  {
   "cell_type": "code",
   "execution_count": 4,
   "id": "fadea307",
   "metadata": {},
   "outputs": [
    {
     "name": "stdout",
     "output_type": "stream",
     "text": [
      "Found 624 images belonging to 2 classes.\n"
     ]
    }
   ],
   "source": [
    "test_datagen = ImageDataGenerator(rescale = 1./255)\n",
    "test_inputs = test_datagen.flow_from_directory('Dataset/test',\n",
    "                                            target_size = (64, 64),\n",
    "                                            batch_size = 32,\n",
    "                                            class_mode = 'binary')"
   ]
  },
  {
   "cell_type": "code",
   "execution_count": 5,
   "id": "9620dae5",
   "metadata": {},
   "outputs": [
    {
     "data": {
      "text/plain": [
       "{'NORMAL': 0, 'PNEUMONIA': 1}"
      ]
     },
     "execution_count": 5,
     "metadata": {},
     "output_type": "execute_result"
    }
   ],
   "source": [
    "test_inputs.class_indices"
   ]
  },
  {
   "cell_type": "markdown",
   "id": "008a2632",
   "metadata": {},
   "source": [
    "# Convolutional Neural Network"
   ]
  },
  {
   "cell_type": "markdown",
   "id": "0e2c6514",
   "metadata": {},
   "source": [
    "## Building the CNN"
   ]
  },
  {
   "cell_type": "markdown",
   "id": "74a997c3",
   "metadata": {},
   "source": [
    "### Initialising the CNN"
   ]
  },
  {
   "cell_type": "code",
   "execution_count": 6,
   "id": "990e3c01",
   "metadata": {},
   "outputs": [],
   "source": [
    "cnn = tf.keras.models.Sequential()"
   ]
  },
  {
   "cell_type": "markdown",
   "id": "18a3bd97",
   "metadata": {},
   "source": [
    "### Step 1 - Convolution"
   ]
  },
  {
   "cell_type": "code",
   "execution_count": 7,
   "id": "c3401feb",
   "metadata": {},
   "outputs": [],
   "source": [
    "cnn.add(tf.keras.layers.Conv2D(filters=32, kernel_size=3, activation='relu', input_shape=[64, 64, 3]))"
   ]
  },
  {
   "cell_type": "markdown",
   "id": "d3493ac3",
   "metadata": {},
   "source": [
    "### Step 2 - Pooling"
   ]
  },
  {
   "cell_type": "code",
   "execution_count": 8,
   "id": "e09bda08",
   "metadata": {},
   "outputs": [],
   "source": [
    "cnn.add(tf.keras.layers.MaxPool2D(pool_size=2, strides=2))"
   ]
  },
  {
   "cell_type": "markdown",
   "id": "fcc62a16",
   "metadata": {},
   "source": [
    "### Adding a second convolutional layer"
   ]
  },
  {
   "cell_type": "code",
   "execution_count": 9,
   "id": "5f9cabe1",
   "metadata": {},
   "outputs": [],
   "source": [
    "cnn.add(tf.keras.layers.Conv2D(filters=32, kernel_size=3, activation='relu'))\n",
    "cnn.add(tf.keras.layers.MaxPool2D(pool_size=2, strides=2))"
   ]
  },
  {
   "cell_type": "markdown",
   "id": "8510a8de",
   "metadata": {},
   "source": [
    "### Step 3 - Flattening"
   ]
  },
  {
   "cell_type": "code",
   "execution_count": 10,
   "id": "82dd4dfc",
   "metadata": {},
   "outputs": [],
   "source": [
    "cnn.add(tf.keras.layers.Flatten())"
   ]
  },
  {
   "cell_type": "markdown",
   "id": "5165c70b",
   "metadata": {},
   "source": [
    "### Step 4 - Full Connection"
   ]
  },
  {
   "cell_type": "code",
   "execution_count": 11,
   "id": "e5dd0562",
   "metadata": {},
   "outputs": [],
   "source": [
    "cnn.add(tf.keras.layers.Dense(units=128, activation='relu'))"
   ]
  },
  {
   "cell_type": "markdown",
   "id": "8f603959",
   "metadata": {},
   "source": [
    "### Step 5 - Output Layer"
   ]
  },
  {
   "cell_type": "code",
   "execution_count": 12,
   "id": "474e45a7",
   "metadata": {},
   "outputs": [],
   "source": [
    "cnn.add(tf.keras.layers.Dense(units=1, activation='sigmoid'))"
   ]
  },
  {
   "cell_type": "markdown",
   "id": "018399b9",
   "metadata": {},
   "source": [
    "# Training the CNN model"
   ]
  },
  {
   "cell_type": "markdown",
   "id": "266e03d3",
   "metadata": {},
   "source": [
    "## Compiling the CNN"
   ]
  },
  {
   "cell_type": "code",
   "execution_count": 13,
   "id": "aa7d2b7a",
   "metadata": {},
   "outputs": [],
   "source": [
    "cnn.compile(optimizer = 'adam', loss = 'binary_crossentropy', metrics = ['accuracy'])"
   ]
  },
  {
   "cell_type": "markdown",
   "id": "cbb7fd05",
   "metadata": {},
   "source": [
    "## Training the CNN on the Training set and evaluating it on the Test set"
   ]
  },
  {
   "cell_type": "code",
   "execution_count": 14,
   "id": "df53a722",
   "metadata": {},
   "outputs": [
    {
     "name": "stdout",
     "output_type": "stream",
     "text": [
      "Epoch 1/25\n",
      "163/163 [==============================] - 316s 2s/step - loss: 0.3856 - accuracy: 0.8290 - val_loss: 0.5441 - val_accuracy: 0.7548\n",
      "Epoch 2/25\n",
      "163/163 [==============================] - 159s 971ms/step - loss: 0.2419 - accuracy: 0.8997 - val_loss: 0.3238 - val_accuracy: 0.8734\n",
      "Epoch 3/25\n",
      "163/163 [==============================] - 157s 963ms/step - loss: 0.2162 - accuracy: 0.9099 - val_loss: 0.4486 - val_accuracy: 0.8494\n",
      "Epoch 4/25\n",
      "163/163 [==============================] - 156s 959ms/step - loss: 0.1837 - accuracy: 0.9294 - val_loss: 0.3347 - val_accuracy: 0.8702\n",
      "Epoch 5/25\n",
      "163/163 [==============================] - 157s 963ms/step - loss: 0.1813 - accuracy: 0.9323 - val_loss: 0.4781 - val_accuracy: 0.8397\n",
      "Epoch 6/25\n",
      "163/163 [==============================] - 157s 964ms/step - loss: 0.1647 - accuracy: 0.9375 - val_loss: 0.5006 - val_accuracy: 0.8205\n",
      "Epoch 7/25\n",
      "163/163 [==============================] - 325s 2s/step - loss: 0.1452 - accuracy: 0.9431 - val_loss: 0.2982 - val_accuracy: 0.8958\n",
      "Epoch 8/25\n",
      "163/163 [==============================] - 264s 2s/step - loss: 0.1477 - accuracy: 0.9438 - val_loss: 0.4863 - val_accuracy: 0.8590\n",
      "Epoch 9/25\n",
      "163/163 [==============================] - 160s 984ms/step - loss: 0.1384 - accuracy: 0.9452 - val_loss: 0.3295 - val_accuracy: 0.8814\n",
      "Epoch 10/25\n",
      "163/163 [==============================] - 122s 747ms/step - loss: 0.1356 - accuracy: 0.9465 - val_loss: 0.6266 - val_accuracy: 0.8285\n",
      "Epoch 11/25\n",
      "163/163 [==============================] - 122s 749ms/step - loss: 0.1416 - accuracy: 0.9471 - val_loss: 0.2709 - val_accuracy: 0.8878\n",
      "Epoch 12/25\n",
      "163/163 [==============================] - 122s 748ms/step - loss: 0.1230 - accuracy: 0.9521 - val_loss: 0.2527 - val_accuracy: 0.9087\n",
      "Epoch 13/25\n",
      "163/163 [==============================] - 121s 745ms/step - loss: 0.1365 - accuracy: 0.9473 - val_loss: 0.6337 - val_accuracy: 0.7708\n",
      "Epoch 14/25\n",
      "163/163 [==============================] - 120s 736ms/step - loss: 0.1261 - accuracy: 0.9532 - val_loss: 0.3603 - val_accuracy: 0.8766\n",
      "Epoch 15/25\n",
      "163/163 [==============================] - 121s 739ms/step - loss: 0.1138 - accuracy: 0.9569 - val_loss: 0.3335 - val_accuracy: 0.8894\n",
      "Epoch 16/25\n",
      "163/163 [==============================] - 121s 739ms/step - loss: 0.1189 - accuracy: 0.9553 - val_loss: 0.4521 - val_accuracy: 0.8734\n",
      "Epoch 17/25\n",
      "163/163 [==============================] - 121s 741ms/step - loss: 0.1143 - accuracy: 0.9544 - val_loss: 0.3307 - val_accuracy: 0.8958\n",
      "Epoch 18/25\n",
      "163/163 [==============================] - 163s 1s/step - loss: 0.1152 - accuracy: 0.9565 - val_loss: 0.3917 - val_accuracy: 0.8830\n",
      "Epoch 19/25\n",
      "163/163 [==============================] - 141s 863ms/step - loss: 0.1243 - accuracy: 0.9509 - val_loss: 0.3904 - val_accuracy: 0.8878\n",
      "Epoch 20/25\n",
      "163/163 [==============================] - 121s 740ms/step - loss: 0.1086 - accuracy: 0.9595 - val_loss: 0.3188 - val_accuracy: 0.9038\n",
      "Epoch 21/25\n",
      "163/163 [==============================] - 120s 737ms/step - loss: 0.1139 - accuracy: 0.9572 - val_loss: 0.3171 - val_accuracy: 0.9006\n",
      "Epoch 22/25\n",
      "163/163 [==============================] - 121s 743ms/step - loss: 0.1082 - accuracy: 0.9590 - val_loss: 0.4973 - val_accuracy: 0.8510\n",
      "Epoch 23/25\n",
      "163/163 [==============================] - 120s 737ms/step - loss: 0.1067 - accuracy: 0.9613 - val_loss: 0.3039 - val_accuracy: 0.9038\n",
      "Epoch 24/25\n",
      "163/163 [==============================] - 120s 737ms/step - loss: 0.1001 - accuracy: 0.9609 - val_loss: 0.3944 - val_accuracy: 0.8910\n",
      "Epoch 25/25\n",
      "163/163 [==============================] - 218s 1s/step - loss: 0.1027 - accuracy: 0.9634 - val_loss: 0.2727 - val_accuracy: 0.9119\n"
     ]
    },
    {
     "data": {
      "text/plain": [
       "<tensorflow.python.keras.callbacks.History at 0x1e95c4bd4f0>"
      ]
     },
     "execution_count": 14,
     "metadata": {},
     "output_type": "execute_result"
    }
   ],
   "source": [
    "cnn.fit(x = train_inputs, validation_data = test_inputs, epochs = 25)"
   ]
  },
  {
   "cell_type": "markdown",
   "id": "d14a101d",
   "metadata": {},
   "source": [
    "# summary() method will display the architecture of the model"
   ]
  },
  {
   "cell_type": "code",
   "execution_count": 15,
   "id": "349d8f16",
   "metadata": {},
   "outputs": [
    {
     "name": "stdout",
     "output_type": "stream",
     "text": [
      "Model: \"sequential\"\n",
      "_________________________________________________________________\n",
      "Layer (type)                 Output Shape              Param #   \n",
      "=================================================================\n",
      "conv2d (Conv2D)              (None, 62, 62, 32)        896       \n",
      "_________________________________________________________________\n",
      "max_pooling2d (MaxPooling2D) (None, 31, 31, 32)        0         \n",
      "_________________________________________________________________\n",
      "conv2d_1 (Conv2D)            (None, 29, 29, 32)        9248      \n",
      "_________________________________________________________________\n",
      "max_pooling2d_1 (MaxPooling2 (None, 14, 14, 32)        0         \n",
      "_________________________________________________________________\n",
      "flatten (Flatten)            (None, 6272)              0         \n",
      "_________________________________________________________________\n",
      "dense (Dense)                (None, 128)               802944    \n",
      "_________________________________________________________________\n",
      "dense_1 (Dense)              (None, 1)                 129       \n",
      "=================================================================\n",
      "Total params: 813,217\n",
      "Trainable params: 813,217\n",
      "Non-trainable params: 0\n",
      "_________________________________________________________________\n"
     ]
    }
   ],
   "source": [
    "cnn.summary()"
   ]
  },
  {
   "cell_type": "markdown",
   "id": "7149ef14",
   "metadata": {},
   "source": [
    "# Save model and Load"
   ]
  },
  {
   "cell_type": "markdown",
   "id": "91667e43",
   "metadata": {},
   "source": [
    "## Saved model to disk"
   ]
  },
  {
   "cell_type": "code",
   "execution_count": 16,
   "id": "31366cca",
   "metadata": {},
   "outputs": [],
   "source": [
    "# serialize model to JSON\n",
    "model_json = cnn.to_json()\n",
    "with open(\"model.json\", \"w\") as json_file:\n",
    "    json_file.write(model_json)"
   ]
  },
  {
   "cell_type": "code",
   "execution_count": 17,
   "id": "2ba655e7",
   "metadata": {},
   "outputs": [
    {
     "name": "stdout",
     "output_type": "stream",
     "text": [
      "Saved model to disk\n"
     ]
    }
   ],
   "source": [
    "# Serialize weights to HDF5\n",
    "cnn.save_weights(\"mymodel.h5\")\n",
    "print(\"Saved model to disk\")"
   ]
  },
  {
   "cell_type": "markdown",
   "id": "4ada2cac",
   "metadata": {},
   "source": [
    "## Loaded model from disk"
   ]
  },
  {
   "cell_type": "code",
   "execution_count": 18,
   "id": "2f3d7e1d",
   "metadata": {},
   "outputs": [],
   "source": [
    "# load json and create model\n",
    "json_file = open('model.json', 'r')\n",
    "loaded_model_json = json_file.read()\n",
    "json_file.close()\n",
    "model = model_from_json(loaded_model_json)"
   ]
  },
  {
   "cell_type": "code",
   "execution_count": 19,
   "id": "31513935",
   "metadata": {},
   "outputs": [
    {
     "name": "stdout",
     "output_type": "stream",
     "text": [
      "Loaded model from disk\n"
     ]
    }
   ],
   "source": [
    "# load weights into new model\n",
    "model.load_weights(\"mymodel.h5\")\n",
    "print(\"Loaded model from disk\")"
   ]
  },
  {
   "cell_type": "markdown",
   "id": "80fcb91f",
   "metadata": {},
   "source": [
    "# Making a single prediction"
   ]
  },
  {
   "cell_type": "code",
   "execution_count": 20,
   "id": "e23792c0",
   "metadata": {},
   "outputs": [
    {
     "name": "stdout",
     "output_type": "stream",
     "text": [
      "1.0\n",
      "{'NORMAL': 0, 'PNEUMONIA': 1}\n"
     ]
    },
    {
     "data": {
      "image/png": "[encoded data removed]",
      "text/plain": [
       "<Figure size 432x288 with 1 Axes>"
      ]
     },
     "metadata": {
      "needs_background": "light"
     },
     "output_type": "display_data"
    }
   ],
   "source": [
    "test_image1 = image.load_img('Dataset/single_prediction/Virus1.jpeg', target_size = (64, 64))\n",
    "\n",
    "image_data1 = image.img_to_array(test_image1)\n",
    "exp_img1 = np.expand_dims(image_data1, axis = 0)\n",
    "\n",
    "plt.imshow(test_image1)\n",
    "\n",
    "result = model.predict(exp_img1)\n",
    "print(result[0][0])\n",
    "print( train_inputs.class_indices)\n",
    "\n",
    "if result[0][0] == 0:\n",
    "    prediction = '0 : NORMAL'\n",
    "else:\n",
    "    prediction = '1 : PNEUMONIA'"
   ]
  },
  {
   "cell_type": "code",
   "execution_count": 21,
   "id": "aaf6c4bb",
   "metadata": {},
   "outputs": [
    {
     "name": "stdout",
     "output_type": "stream",
     "text": [
      "1 : PNEUMONIA\n"
     ]
    }
   ],
   "source": [
    "print(prediction)"
   ]
  },
  {
   "cell_type": "code",
   "execution_count": 22,
   "id": "38514783",
   "metadata": {},
   "outputs": [
    {
     "name": "stdout",
     "output_type": "stream",
     "text": [
      "0.0\n",
      "{'NORMAL': 0, 'PNEUMONIA': 1}\n"
     ]
    },
    {
     "data": {
      "image/png": "[encoded data removed]",
      "text/plain": [
       "<Figure size 432x288 with 1 Axes>"
      ]
     },
     "metadata": {
      "needs_background": "light"
     },
     "output_type": "display_data"
    }
   ],
   "source": [
    "test_image2 = image.load_img('Dataset/single_prediction/Normal1.jpeg', target_size = (64, 64))\n",
    "\n",
    "image_data2 = image.img_to_array(test_image2)\n",
    "exp_img2 = np.expand_dims(image_data2, axis = 0)\n",
    "\n",
    "plt.imshow(test_image2)\n",
    "\n",
    "result = model.predict(exp_img2)\n",
    "print(result[0][0])\n",
    "print( train_inputs.class_indices)\n",
    "\n",
    "if result[0][0] == 0:\n",
    "    prediction = '0 : NORMAL'\n",
    "else:\n",
    "    prediction = '1 : PNEUMONIA'"
   ]
  },
  {
   "cell_type": "code",
   "execution_count": 23,
   "id": "f2356d68",
   "metadata": {},
   "outputs": [
    {
     "name": "stdout",
     "output_type": "stream",
     "text": [
      "0 : NORMAL\n"
     ]
    }
   ],
   "source": [
    "print(prediction)"
   ]
  },
  {
   "cell_type": "code",
   "execution_count": 24,
   "id": "9cc6ecb7",
   "metadata": {},
   "outputs": [
    {
     "name": "stdout",
     "output_type": "stream",
     "text": [
      "0.0\n",
      "{'NORMAL': 0, 'PNEUMONIA': 1}\n"
     ]
    },
    {
     "data": {
      "image/png": "[encoded data removed]",
      "text/plain": [
       "<Figure size 432x288 with 1 Axes>"
      ]
     },
     "metadata": {
      "needs_background": "light"
     },
     "output_type": "display_data"
    }
   ],
   "source": [
    "test_image3 = image.load_img('Dataset/single_prediction/Normal2.jpeg', target_size = (64, 64))\n",
    "\n",
    "image_data3 = image.img_to_array(test_image3)\n",
    "exp_img3 = np.expand_dims(image_data3, axis = 0)\n",
    "\n",
    "plt.imshow(test_image3)\n",
    "\n",
    "result = model.predict(exp_img3)\n",
    "print(result[0][0])\n",
    "print( train_inputs.class_indices)\n",
    "\n",
    "if result[0][0] == 0:\n",
    "    prediction = '0 : NORMAL'\n",
    "else:\n",
    "    prediction = '1 : PNEUMONIA'"
   ]
  },
  {
   "cell_type": "code",
   "execution_count": 25,
   "id": "85acf3e2",
   "metadata": {},
   "outputs": [
    {
     "name": "stdout",
     "output_type": "stream",
     "text": [
      "0 : NORMAL\n"
     ]
    }
   ],
   "source": [
    "print(prediction)"
   ]
  },
  {
   "cell_type": "code",
   "execution_count": 26,
   "id": "3a0d8073",
   "metadata": {},
   "outputs": [
    {
     "name": "stdout",
     "output_type": "stream",
     "text": [
      "1.0\n",
      "{'NORMAL': 0, 'PNEUMONIA': 1}\n"
     ]
    },
    {
     "data": {
      "image/png": "[encoded data removed]",
      "text/plain": [
       "<Figure size 432x288 with 1 Axes>"
      ]
     },
     "metadata": {
      "needs_background": "light"
     },
     "output_type": "display_data"
    }
   ],
   "source": [
    "test_image4 = image.load_img('Dataset/single_prediction/Virus2.jpeg', target_size = (64, 64))\n",
    "\n",
    "image_data4 = image.img_to_array(test_image4)\n",
    "exp_img4 = np.expand_dims(image_data4, axis = 0)\n",
    "\n",
    "plt.imshow(test_image4)\n",
    "\n",
    "result = model.predict(exp_img4)\n",
    "print(result[0][0])\n",
    "print( train_inputs.class_indices)\n",
    "\n",
    "if result[0][0] == 0:\n",
    "    prediction = '0 : NORMAL'\n",
    "else:\n",
    "    prediction = '1 : PNEUMONIA'"
   ]
  },
  {
   "cell_type": "code",
   "execution_count": 27,
   "id": "e38ca123",
   "metadata": {},
   "outputs": [
    {
     "name": "stdout",
     "output_type": "stream",
     "text": [
      "1 : PNEUMONIA\n"
     ]
    }
   ],
   "source": [
    "print(prediction)"
   ]
  },
  {
   "cell_type": "markdown",
   "id": "1e14e4f1",
   "metadata": {},
   "source": [
    "**Accuracy = 96%**"
   ]
  },
  {
   "cell_type": "code",
   "execution_count": null,
   "id": "33522205",
   "metadata": {},
   "outputs": [],
   "source": []
  },
  {
   "cell_type": "markdown",
   "id": "1bafe692",
   "metadata": {},
   "source": [
    "### Reference\n",
    "\n",
    "**For Lung Disease**\n",
    "\n",
    "Link : https://medlineplus.gov/ency/article/000066.htm"
   ]
  }
 ],
 "metadata": {
  "kernelspec": {
   "display_name": "Python 3",
   "language": "python",
   "name": "python3"
  },
  "language_info": {
   "codemirror_mode": {
    "name": "ipython",
    "version": 3
   },
   "file_extension": ".py",
   "mimetype": "text/x-python",
   "name": "python",
   "nbconvert_exporter": "python",
   "pygments_lexer": "ipython3",
   "version": "3.9.5"
  }
 },
 "nbformat": 4,
 "nbformat_minor": 5
}
